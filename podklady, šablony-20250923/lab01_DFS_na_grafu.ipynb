{
 "cells": [
  {
   "cell_type": "markdown",
   "id": "2b8aefe2",
   "metadata": {},
   "source": [
    "# Lab01: DFS na malém grafu — hledání *nějaké* cesty z/do konkrétního uzlu\n",
    "\n",
    "Cílem je **edukačně** ukázat DFS (Depth-First Search, prohledávání do hloubky) na malém grafu zadaném pomocí seznamu sousedů.\n",
    "\n",
    "Struktura notebooku:\n",
    "1. **Definice grafu seznamem sousedů** (adjacency list).\n",
    "2. **DFS s explicitním zásobníkem (`list`)** — iterativní varianta.\n",
    "3. **Rekonstrukce cesty** od kořene k nalezenému uzlu a **vypsání cesty**.\n",
    "\n",
    "> Pozn.: Na rozdíl od BFS **DFS negarantuje nejkratší cestu** v neohodnoceném grafu. Cesta závisí na pořadí sousedů v seznamu a na tom, jak procházíme (iterativně/rekurzivně).\n"
   ]
  },
  {
   "cell_type": "code",
   "execution_count": 2,
   "id": "d3972603",
   "metadata": {},
   "outputs": [],
   "source": [
    "# --- Použití příkladu: graf si nakreslete ---\n",
    "# Reprezentace grafu pomocí seznamu sousedů\n",
    "graph = {\n",
    "    \"A\": [\"B\", \"C\"],\n",
    "    \"B\": [\"A\", \"C\", \"D\", \"E\"],\n",
    "    \"C\": [\"A\", \"B\", \"D\", \"E\"],\n",
    "    \"D\": [\"B\", \"C\", \"E\", \"F\"],\n",
    "    \"E\": [\"B\", \"C\", \"D\", \"F\"],\n",
    "    \"F\": [\"D\", \"E\"]\n",
    "}\n",
    "# definice počátečního START a konečného END uzlu\n",
    "start = 'A'\n",
    "end = 'F'"
   ]
  },
  {
   "cell_type": "markdown",
   "id": "85ca0e47",
   "metadata": {},
   "source": [
    "**`def dfs(graph, start_node, target_node)`**:\n",
    "    \n",
    "Provede prohledávání do **hloubky** (DFS) na daném grafu od počátečního uzlu s cílem najít **nějakou** (ne nutně nejkratší) cestu k cílovému uzlu.\n",
    "\n",
    "*Parametry*:\n",
    "- `graph (dict)`: Reprezentace grafu pomocí slovníku (uzel → seznam sousedů).\n",
    "- `start_node`:   Počáteční uzel prohledávání.\n",
    "- `target_node`:  Cílový uzel, který hledáme.\n",
    "\n",
    "*Vrací*:\n",
    "- `list | None`: Seznam uzlů tvořících nalezenou cestu od `start_node` k `target_node`.\n",
    "  Pokud `target_node` není dosažitelný, vrátí `None`.\n",
    "\n",
    "**Klíčové myšlenky implementace**\n",
    "\n",
    "- **`stack = [start_node]`**: Zásobník (LIFO) pro DFS. Na rozdíl od BFS (FIFO fronta) vybíráme **naposledy přidaný** uzel → jdeme „co nejhlouběji“.\n",
    "- **`visited = {start_node}`**: Množina pro rychlé zjištění, zda jsme uzel již navštívili (průměrně `O(1)`).\n",
    "- **`parents = {start_node: None}`**: Pro rekonstrukci cesty zpětně od cíle k začátku.\n",
    "- **Hlavní smyčka** vybírá uzly ze zásobníku, při rozšiřování sousedů je **přidává na zásobník**. Jakmile se popne cílový uzel, **končíme** a zrekonstruujeme cestu.\n",
    "- **Rekonstrukce cesty** probíhá stejně jako u BFS: jdeme přes `parents` od cíle k začátku a výsledek **obrátíme**.\n",
    "\n",
    "**Složitost** (pro adj. seznam): čas `O(|V|+|E|)`, paměť `O(|V|)`.\n"
   ]
  },
  {
   "cell_type": "code",
   "execution_count": 4,
   "id": "2f4e0fe8",
   "metadata": {},
   "outputs": [],
   "source": [
    "def dfs(graph, start_node, end_node):\n",
    "    # Najde nějakou cestu z 'start_node' do 'end_node' pomocí DFS (iterativně, zásobník).\n",
    "    # Negarantuje nejkratší cestu. Vrací seznam uzlů nebo None.\n",
    "    \n",
    "    # Krok 1: Inicializace\n",
    "    stack = [start_node]          # Zásobník pro DFS (LIFO)\n",
    "    visited = {start_node}        # Množina navštívených uzlů\n",
    "    parents = {start_node: None}  # Pro rekonstrukci cesty\n",
    "\n",
    "    # Krok 2: Hlavní cyklus\n",
    "    while stack:\n",
    "        current_node = stack.pop()  # Popneme posledně přidaný uzel (jít „do hloubky“)\n",
    "\n",
    "        # Krok 3: Kontrola cílového uzlu\n",
    "        if current_node == end_node:\n",
    "            # Rekonstrukce cesty: jdeme přes 'parents' zpět na začátek\n",
    "            path = []\n",
    "            node = end_node\n",
    "            while node is not None:\n",
    "                path.append(node)\n",
    "                node = parents[node]\n",
    "            return path[::-1]  # Otočíme do správného pořadí\n",
    "\n",
    "        # Krok 4: Prohledávání sousedů\n",
    "        # POZN.: Pořadí sousedů ovlivní konkrétní nalezenou cestu.\n",
    "        for neighbor in graph[current_node]:\n",
    "            if neighbor not in visited:\n",
    "                visited.add(neighbor)\n",
    "                parents[neighbor] = current_node\n",
    "                stack.append(neighbor)  # DFS: přidáváme na zásobník\n",
    "\n",
    "    # K žádné cestě jsme se nedostali\n",
    "    return None"
   ]
  },
  {
   "cell_type": "code",
   "execution_count": 5,
   "id": "4a472123",
   "metadata": {},
   "outputs": [
    {
     "name": "stdout",
     "output_type": "stream",
     "text": [
      "Nalezená (ne nutně nejkratší) cesta z A do F:\n",
      "A -> C -> E -> F\n"
     ]
    }
   ],
   "source": [
    "# (main) Spuštění DFS a nalezení cesty\n",
    "path = dfs(graph, start, end)\n",
    "\n",
    "if path:\n",
    "    print(f\"Nalezená (ne nutně nejkratší) cesta z {start} do {end}:\")\n",
    "    print(\" -> \".join(path))\n",
    "else:\n",
    "    print(f\"Cesta z {start} do {end} nebyla nalezena.\")"
   ]
  },
  {
   "cell_type": "code",
   "execution_count": null,
   "id": "bd992998-59fb-4ce5-b835-ba2965cbc166",
   "metadata": {},
   "outputs": [],
   "source": []
  }
 ],
 "metadata": {
  "kernelspec": {
   "display_name": "Python 3 (ipykernel)",
   "language": "python",
   "name": "python3"
  },
  "language_info": {
   "codemirror_mode": {
    "name": "ipython",
    "version": 3
   },
   "file_extension": ".py",
   "mimetype": "text/x-python",
   "name": "python",
   "nbconvert_exporter": "python",
   "pygments_lexer": "ipython3",
   "version": "3.12.4"
  }
 },
 "nbformat": 4,
 "nbformat_minor": 5
}
