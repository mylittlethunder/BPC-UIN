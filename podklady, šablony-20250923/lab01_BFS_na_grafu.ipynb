{
 "cells": [
  {
   "cell_type": "markdown",
   "id": "d145513b-eaf9-474e-b7bf-7b3676803336",
   "metadata": {
    "id": "d145513b-eaf9-474e-b7bf-7b3676803336"
   },
   "source": [
    "# Lab01: BFS na malém grafu — hledání *cesty z/do konkrétního uzlu*\n",
    "\n",
    "Cílem je **edukačně** ukázat BFS (Breadth-First Search, prohledávání do šířky) na malém grafu zadaném pomocí seznamu sousedů.\n",
    "\n",
    "Struktura notebooku:\n",
    "1. **Definice grafu seznamem sousedů** (adjacency list).\n",
    "2. **BFS s `collections.deque`**\n",
    "3. **Rekonstrukce cesty** od kořene k nalezenému uzlu a **vypsání cesty cestou**."
   ]
  },
  {
   "cell_type": "code",
   "execution_count": null,
   "id": "4c2ea32d-f3dd-4ac7-89a5-6e29622b2d03",
   "metadata": {
    "id": "4c2ea32d-f3dd-4ac7-89a5-6e29622b2d03"
   },
   "outputs": [],
   "source": [
    "# --- Použití příkladu: graf si nakreslete ---\n",
    "# Reprezentace grafu pomocí seznamu sousedů\n",
    "graph = {\n",
    "    \"A\": [\"B\", \"C\"],\n",
    "    \"B\": [\"A\", \"C\", \"D\", \"E\"],\n",
    "    \"C\": [\"A\", \"B\", \"D\", \"E\"],\n",
    "    \"D\": [\"B\", \"C\", \"E\", \"F\"],\n",
    "    \"E\": [\"B\", \"C\", \"D\", \"F\"],\n",
    "    \"F\": [\"D\", \"E\"]\n",
    "}\n",
    "# definice počátečního START a konečného END uzlu\n",
    "start = 'A'\n",
    "end = 'F'"
   ]
  },
  {
   "cell_type": "markdown",
   "id": "c0acf85d-d8ee-471c-a12b-ce3056feef68",
   "metadata": {
    "id": "c0acf85d-d8ee-471c-a12b-ce3056feef68"
   },
   "source": [
    "**`def bfs(graph, start_node, target_node)`**:\n",
    "    \n",
    "Provede prohledávání do šířky (BFS) na daném grafu od počátečního uzlu s cílem najít nejkratší cestu k cílovému uzlu.\n",
    "\n",
    "*Parametry*:\n",
    "    `graph (dict)`: Reprezentace grafu pomocí slovníku.\n",
    "    `start_node`:   Počáteční uzel prohledávání.\n",
    "    `target_node`:  Cílový uzel, který hledáme.\n",
    "\n",
    "*Vrací*:\n",
    "    `list`: Seznam uzlů, které tvoří nejkratší cestu od start_node k target_node.\n",
    "            Pokud cílový uzel není dosažitelný, vrátí None.\n",
    "\n",
    "**`queue = deque([start_node])`**: Inicializujeme frontu s prvním uzlem. Použití `deque` je zde zásadní. Díky metodě `popleft()` je odebrání prvku ze začátku fronty extrémně rychlé, což by s klasickým listem bylo neefektivní.\n",
    "\n",
    "**`visited = {start_node}`**: Používáme množinu (set) pro sledování navštívených uzlů. Je to nejrychlejší datová struktura pro kontrolu existence prvku (operace in má průměrnou časovou složitost O(1)).\n",
    "\n",
    "**`parents = {start_node: None}`**: Tento slovník je jádrem pro nalezení cesty. Pro každý uzel, který navštívíme, si uložíme jeho \"rodiče\" – tedy uzel, ze kterého jsme k němu přišli. To nám umožní se na konci vrátit zpět od cíle až na začátek a zrekonstruovat celou cestu.\n",
    "\n",
    "**`while queue:`** Hlavní cyklus. Běží tak dlouho, dokud fronta není prázdná, což znamená, že jsme buď našli cíl, nebo jsme prohledali celý dosažitelný graf.\n",
    "\n",
    "**`path = path[::-1]`**: Jakmile je cíl nalezen, cesta je ve slovníku `parents` uložena pozpátku (od cíle k začátku). Tato operace vytvoří obrácenou kopii seznamu, čímž získáme cestu ve správném pořadí."
   ]
  },
  {
   "cell_type": "code",
   "execution_count": null,
   "id": "45036116-4145-43a0-bf96-275104b2688e",
   "metadata": {
    "id": "45036116-4145-43a0-bf96-275104b2688e"
   },
   "outputs": [],
   "source": [
    "from collections import deque\n",
    "\n",
    "def bfs(graph, start_node, end_node):\n",
    "    # Najde nejkratší cestu z 'start_node' do 'end_node' v neváženém grafu\n",
    "    # Používáme deque pro efektivní přidávání a odebírání prvků\n",
    "\n",
    "    # Krok 1: Inicializace\n",
    "    # Fronta pro uzly, které je třeba prozkoumat.\n",
    "    queue = deque([start_node])\n",
    "\n",
    "    # Množina pro efektivní sledování navštívených uzlů (často ozn. CLOSED list)\n",
    "    visited = {start_node}\n",
    "\n",
    "    # Slovník pro rekonstrukci cesty, kde klíčem je uzel a hodnotou jeho předchůdce\n",
    "    parents = {start_node: None}\n",
    "\n",
    "    # Krok 2: Hlavní cyklus\n",
    "    # Smyčka běží, dokud není fronta prázdná nebo není nalezen cílový uzel\n",
    "    while queue:\n",
    "        # Odebrání uzlu ze začátku fronty\n",
    "        current_node = queue.popleft()\n",
    "\n",
    "        # Krok 3: Kontrola cílového uzlu\n",
    "        # Cíl nalezen! Pokud je aktuální uzel cílový, rekonstruuj a vrať cestu.\n",
    "        if current_node == end_node:\n",
    "            # Rekonstrukce cesty od konce k začátku\n",
    "            path = []\n",
    "            while current_node is not None:\n",
    "                path.append(current_node)\n",
    "                current_node = parents[current_node]\n",
    "            # Vrací cestu v opačném pořadí (od začátku do konce)\n",
    "            return path[::-1]\n",
    "\n",
    "        # Krok 4: Prohledávání sousedů\n",
    "        # Procházení všech sousedů aktuálního uzlu.\n",
    "        for neighbor in graph[current_node]:\n",
    "            if neighbor not in visited:\n",
    "                # Označení jako navštíveného a přidání do fronty\n",
    "                visited.add(neighbor)\n",
    "                queue.append(neighbor)\n",
    "                # Uložení předchůdce pro rekonstrukci cesty\n",
    "                parents[neighbor] = current_node\n",
    "\n",
    "    # Pokud smyčka skončí a cílový uzel nebyl nalezen\n",
    "    return None"
   ]
  },
  {
   "cell_type": "code",
   "execution_count": null,
   "id": "b84f4159-469f-4317-b05b-b7233a04bcea",
   "metadata": {
    "id": "b84f4159-469f-4317-b05b-b7233a04bcea",
    "outputId": "da0cb1c0-34a9-45d8-9080-d3d57f47d170"
   },
   "outputs": [
    {
     "name": "stdout",
     "output_type": "stream",
     "text": [
      "Nejkratší cesta z A do E:\n",
      "A -> B -> E\n"
     ]
    }
   ],
   "source": [
    "# (main) Spuštění BFS a nalezení cesty\n",
    "path = bfs(graph, start, end)\n",
    "\n",
    "if path:\n",
    "    print(f\"Nejkratší cesta z {start} do {end}:\")\n",
    "    print(\" -> \".join(path))\n",
    "else:\n",
    "    print(f\"Cesta z {start} do {end} nebyla nalezena.\")"
   ]
  },
  {
   "cell_type": "code",
   "execution_count": null,
   "id": "49f5451a-ad27-40c0-bb02-ed15bf1625ff",
   "metadata": {
    "id": "49f5451a-ad27-40c0-bb02-ed15bf1625ff"
   },
   "outputs": [],
   "source": []
  }
 ],
 "metadata": {
  "colab": {
   "provenance": []
  },
  "kernelspec": {
   "display_name": "Python 3 (ipykernel)",
   "language": "python",
   "name": "python3"
  },
  "language_info": {
   "codemirror_mode": {
    "name": "ipython",
    "version": 3
   },
   "file_extension": ".py",
   "mimetype": "text/x-python",
   "name": "python",
   "nbconvert_exporter": "python",
   "pygments_lexer": "ipython3",
   "version": "3.11.13"
  }
 },
 "nbformat": 4,
 "nbformat_minor": 5
}
