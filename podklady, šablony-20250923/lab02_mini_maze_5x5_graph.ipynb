{
 "cells": [
  {
   "cell_type": "markdown",
   "id": "39a96471-9c36-4f0e-ab47-d174cb5d7817",
   "metadata": {
    "id": "39a96471-9c36-4f0e-ab47-d174cb5d7817"
   },
   "source": [
    "# Lab 02: Mini příklad na 5×5 bludiště (4-okolí)\n",
    "\n",
    "- Zaručená průchodnost: start **S=(0,0)** → cíl **G=(4,4)**\n",
    "- Vizualizace jako mřížka čtverečků (zeď vs. volno)\n",
    "- Grafová reprezentace (uzly = volná pole, hrany = sousedé ve 4-okolí)\n",
    "- Cesta je nalezena pomocí **BFS**\n",
    "\n",
    "> Pozn.: Souřadnice používají numpy indexování `(řádek, sloupec)`.\n"
   ]
  },
  {
   "cell_type": "code",
   "execution_count": 2,
   "id": "c1906222-209e-40ed-a3a6-4afb9b459af1",
   "metadata": {
    "executionInfo": {
     "elapsed": 91,
     "status": "ok",
     "timestamp": 1758482473323,
     "user": {
      "displayName": "Radek Matousek",
      "userId": "12912336954409228493"
     },
     "user_tz": -120
    },
    "id": "c1906222-209e-40ed-a3a6-4afb9b459af1"
   },
   "outputs": [],
   "source": [
    "# --- Parametry ---\n",
    "# SEED: nastav na None pro plně náhodné generování; konstanta → opakovatelnost.\n",
    "SEED = 13\n",
    "# WALL_PROB: pravděpodobnost, že buňka bude zeď (True). Rozumné rozmezí 0.25–0.45.\n",
    "WALL_PROB = 0.33\n",
    "N = 5\n",
    "START = (0, 0)\n",
    "GOAL  = (N-1, N-1)\n",
    "\n",
    "# Volitelný export obrázků (PNG). Pokud True, uloží se na disk. ***TODO: ještě upravit\n",
    "EXPORT_PNG = False\n"
   ]
  },
  {
   "cell_type": "code",
   "execution_count": 3,
   "id": "427f4310",
   "metadata": {
    "executionInfo": {
     "elapsed": 6,
     "status": "ok",
     "timestamp": 1758482473328,
     "user": {
      "displayName": "Radek Matousek",
      "userId": "12912336954409228493"
     },
     "user_tz": -120
    },
    "id": "427f4310"
   },
   "outputs": [],
   "source": [
    "import numpy as np\n",
    "import matplotlib.pyplot as plt\n",
    "from collections import deque\n",
    "\n",
    "# --- BFS (Breadth-First Search) pro nejkratší cestu v neohodnoceném grafu ---\n",
    "def bfs_path(grid, start, goal):\n",
    "    # grid: 2D numpy pole typu bool; True = zeď (neprůchodné), False = volno (průchozí)\n",
    "    # start, goal: dvojice (r, c) s numpy indexací (řádek, sloupec)\n",
    "    # Pro 4-okolí povolujeme kroky nahoru/dolů/vlevo/vpravo.\n",
    "\n",
    "    H, W = grid.shape  # rozměry mřížky\n",
    "\n",
    "    # fronta pro BFS (FIFO). Začínáme startovním vrcholem\n",
    "    q = deque([start])\n",
    "\n",
    "    # slovník 'prev' si pamatuje, odkud jsme do uzlu přišli\n",
    "    # (umožní zpětnou rekonstrukci nejkratší cesty)\n",
    "    prev = {start: None}\n",
    "\n",
    "    # Hlavní smyčka BFS: odebíráme z fronty a zkoumáme sousedy\n",
    "    while q:\n",
    "        r, c = q.popleft()\n",
    "\n",
    "        # Pokud jsme dosáhli cíle, můžeme skončit (cestu zrekonstruujeme níže)\n",
    "        if (r, c) == goal:\n",
    "            break\n",
    "\n",
    "        # 4 možné směry (nahoru, dolů, vlevo, vpravo)\n",
    "        for dr, dc in [(-1,0), (1,0), (0,-1), (0,1)]:\n",
    "            nr, nc = r + dr, c + dc\n",
    "\n",
    "            # a) zůstaneme uvnitř mřížky\n",
    "            if not (0 <= nr < H and 0 <= nc < W):\n",
    "                continue\n",
    "\n",
    "            # b) nesmíme jít do zdi (True = zeď)\n",
    "            if grid[nr, nc]:\n",
    "                continue\n",
    "\n",
    "            # c) nesmíme navštívit uzel vícekrát (kontrolujeme přes 'prev')\n",
    "            if (nr, nc) in prev:\n",
    "                continue\n",
    "\n",
    "            # Označíme předchůdce a dáme souseda do fronty\n",
    "            prev[(nr, nc)] = (r, c)\n",
    "            q.append((nr, nc))\n",
    "\n",
    "    # Pokud se cíl do 'prev' nedostal, tak cesta neexistuje\n",
    "    if goal not in prev:\n",
    "        return None\n",
    "\n",
    "    # Rekonstrukce cesty: jdeme od goal zpět pomocí 'prev' až ke startu\n",
    "    path = []\n",
    "    cur = goal\n",
    "    while cur is not None:\n",
    "        path.append(cur)\n",
    "        cur = prev[cur]\n",
    "\n",
    "    # Cestu obrátíme, aby šla od startu k cíli\n",
    "    path.reverse()\n",
    "    return path\n",
    "\n",
    "# --- Generátor bludiště 5×5 s garancí průchodu START→GOAL ---\n",
    "def generate_solvable_maze_5x5(wall_prob=0.33, seed=None, max_trials=5000):\n",
    "    # V každém pokusu vygenerujeme náhodné zdi a ověříme BFS, zda existuje průchod.\n",
    "    rng = np.random.default_rng(seed)\n",
    "    n = 5\n",
    "    S, G = (0, 0), (n-1, n-1)\n",
    "\n",
    "    for _ in range(max_trials):\n",
    "        # True = zeď, False = volno\n",
    "        grid = rng.random((n, n)) < wall_prob\n",
    "\n",
    "        # Zajistíme volné buňky ve startu a cíli\n",
    "        grid[S] = False\n",
    "        grid[G] = False\n",
    "\n",
    "        # Malá \"bezpečná zóna\" uvnitř mřížky kolem S a G pro zvýšení šance na průchod\n",
    "        for r, c in [(0, 1), (1, 0), (n-1, n-2), (n-2, n-1)]:\n",
    "            grid[r, c] = False\n",
    "\n",
    "        # Ověření průchodnosti\n",
    "        path = bfs_path(grid, S, G)\n",
    "        if path is not None:\n",
    "            return grid, path\n",
    "\n",
    "    # Pokud jsme ani po max_trials nenašli průchozí instanci, vyhodíme chybu\n",
    "    raise RuntimeError(\"Nepodařilo se vygenerovat průchozí bludiště. Zkuste snížit WALL_PROB.\")\n",
    "\n",
    "# --- Převod mřížky na graf (uzly = volná pole, hrany = 4-okolí) ---\n",
    "def grid_to_graph(grid):\n",
    "    H, W = grid.shape\n",
    "    nodes, edges = [], []\n",
    "\n",
    "    for r in range(H):\n",
    "        for c in range(W):\n",
    "            if not grid[r, c]:  # pouze volná pole\n",
    "                nodes.append((r, c))\n",
    "\n",
    "                # Abychom hrany nepřidali 2×, bereme jen směry doprava a dolů\n",
    "                for dr, dc in [(0, 1), (1, 0)]:\n",
    "                    nr, nc = r + dr, c + dc\n",
    "                    if 0 <= nr < H and 0 <= nc < W and not grid[nr, nc]:\n",
    "                        edges.append(((r, c), (nr, nc)))\n",
    "\n",
    "    return nodes, edges\n"
   ]
  },
  {
   "cell_type": "code",
   "execution_count": 4,
   "id": "2b6a9e77",
   "metadata": {
    "colab": {
     "base_uri": "https://localhost:8080/"
    },
    "executionInfo": {
     "elapsed": 7,
     "status": "ok",
     "timestamp": 1758482473337,
     "user": {
      "displayName": "Radek Matousek",
      "userId": "12912336954409228493"
     },
     "user_tz": -120
    },
    "id": "2b6a9e77",
    "outputId": "c63daa8a-dcc5-43a9-d3f7-97ffaccebe98"
   },
   "outputs": [
    {
     "name": "stdout",
     "output_type": "stream",
     "text": [
      "Cesta nalezena: True\n",
      "Délka cesty (počet kroků): 8\n"
     ]
    },
    {
     "data": {
      "text/plain": [
       "array([[1, 1, 1, 0, 0],\n",
       "       [1, 1, 0, 1, 1],\n",
       "       [0, 1, 0, 1, 1],\n",
       "       [1, 1, 0, 1, 1],\n",
       "       [0, 1, 1, 1, 1]])"
      ]
     },
     "execution_count": 4,
     "metadata": {},
     "output_type": "execute_result"
    }
   ],
   "source": [
    "# --- Generování bludiště a cesty ---\n",
    "grid, path = generate_solvable_maze_5x5(wall_prob=WALL_PROB, seed=SEED)\n",
    "print(\"Cesta nalezena:\", path is not None)\n",
    "print(\"Délka cesty (počet kroků):\", (len(path)-1) if path else None)\n",
    "\n",
    "# Pro vizualizaci převrátíme: 1 = volno, 0 = zeď (lepší kontrast v imshow)\n",
    "maze_img = (~grid).astype(int)\n",
    "maze_img\n"
   ]
  },
  {
   "cell_type": "code",
   "execution_count": 5,
   "id": "7e3627b5",
   "metadata": {
    "colab": {
     "base_uri": "https://localhost:8080/",
     "height": 468
    },
    "executionInfo": {
     "elapsed": 352,
     "status": "ok",
     "timestamp": 1758482473688,
     "user": {
      "displayName": "Radek Matousek",
      "userId": "12912336954409228493"
     },
     "user_tz": -120
    },
    "id": "7e3627b5",
    "outputId": "5380039d-9e20-4aaa-d30e-3b1bf0e9ca4b"
   },
   "outputs": [
    {
     "data": {
      "image/png": "[encoded data removed]",
      "text/plain": [
       "<Figure size 500x500 with 1 Axes>"
      ]
     },
     "metadata": {},
     "output_type": "display_data"
    }
   ],
   "source": [
    "# --- Vizualizace: čtverečky (mřížka), 1=volno, 0=zeď ---\n",
    "fig = plt.figure(figsize=(5, 5))\n",
    "plt.imshow(maze_img, interpolation=\"nearest\")\n",
    "plt.xticks(range(N))\n",
    "plt.yticks(range(N))\n",
    "# Zobrazíme mřížkovou síť pro lepší čitelnost buněk\n",
    "plt.xticks(np.arange(-.5, N, 1), minor=True)\n",
    "plt.yticks(np.arange(-.5, N, 1), minor=True)\n",
    "plt.grid(which=\"minor\")\n",
    "\n",
    "# Start a cíl (numpy indexování: (r,c) -> (y,x))\n",
    "plt.scatter(START[1], START[0], s=140, marker=\"o\", color='blue')\n",
    "plt.scatter(GOAL[1],  GOAL[0],  s=140, marker=\">\", color='blue')\n",
    "\n",
    "# Vykreslení nalezené cesty po středech buněk\n",
    "ys = [r for r, c in path]\n",
    "xs = [c for r, c in path]\n",
    "plt.plot(xs, ys, linewidth=3, color='blue')\n",
    "\n",
    "plt.title(\"5×5 bludiště – zdi vs. volno (4-okolí)\")\n",
    "plt.show()\n"
   ]
  },
  {
   "cell_type": "code",
   "execution_count": 6,
   "id": "a3185e99",
   "metadata": {
    "colab": {
     "base_uri": "https://localhost:8080/",
     "height": 503
    },
    "executionInfo": {
     "elapsed": 231,
     "status": "ok",
     "timestamp": 1758482473921,
     "user": {
      "displayName": "Radek Matousek",
      "userId": "12912336954409228493"
     },
     "user_tz": -120
    },
    "id": "a3185e99",
    "outputId": "ee6a68ac-5f1f-45f3-c4ff-b5af79ff40bf"
   },
   "outputs": [
    {
     "data": {
      "image/png": "[encoded data removed]",
      "text/plain": [
       "<Figure size 500x500 with 1 Axes>"
      ]
     },
     "metadata": {},
     "output_type": "display_data"
    },
    {
     "name": "stdout",
     "output_type": "stream",
     "text": [
      "Počet uzlů: 18, počet hran: 21\n",
      "Cesta (r,c): [(0, 0), (1, 0), (1, 1), (2, 1), (3, 1), (4, 1), (4, 2), (4, 3), (4, 4)]\n"
     ]
    }
   ],
   "source": [
    "# --- Grafová reprezentace: uzly = volná pole, hrany = 4-okolí ---\n",
    "nodes, edges = grid_to_graph(grid)\n",
    "\n",
    "fig = plt.figure(figsize=(5, 5))\n",
    "# Uzly zakreslíme do středu buněk (x = sloupec c, y = řádek r)\n",
    "xs_nodes = [c for _, c in nodes]\n",
    "ys_nodes = [r for r, _ in nodes]\n",
    "plt.scatter(xs_nodes, ys_nodes, s=80)\n",
    "\n",
    "# Hrany kreslíme jako spojnice středů sousedních buněk\n",
    "for (r1, c1), (r2, c2) in edges:\n",
    "    plt.plot([c1, c2], [r1, r2], linewidth=2, c=\"skyblue\")\n",
    "\n",
    "# Zvýrazníme stejnou nejkratší cestu, jakou našlo BFS v mřížce\n",
    "xs = [c for _, c in path]\n",
    "ys = [r for r, _ in path]\n",
    "plt.plot(xs, ys, linewidth=3, color='blue')\n",
    "\n",
    "# Start a cíl\n",
    "plt.scatter(START[1], START[0], s=140, marker=\"o\", color='blue')\n",
    "plt.scatter(GOAL[1],  GOAL[0],  s=140, marker=\"o\", color='blue')\n",
    "\n",
    "plt.xticks(range(N))\n",
    "plt.yticks(range(N))\n",
    "plt.gca().invert_yaxis()  # Otočí osu Y, aby vizuálně odpovídala matici (řádky shora dolů)\n",
    "plt.grid(True)\n",
    "plt.title(\"Grafová reprezentace (4-okolí) s vyznačenou cestou\")\n",
    "plt.show()\n",
    "\n",
    "print(f\"Počet uzlů: {len(nodes)}, počet hran: {len(edges)}\")\n",
    "print(\"Cesta (r,c):\", path)\n"
   ]
  },
  {
   "cell_type": "code",
   "execution_count": 7,
   "id": "654c4b14",
   "metadata": {
    "executionInfo": {
     "elapsed": 4,
     "status": "ok",
     "timestamp": 1758482473922,
     "user": {
      "displayName": "Radek Matousek",
      "userId": "12912336954409228493"
     },
     "user_tz": -120
    },
    "id": "654c4b14"
   },
   "outputs": [],
   "source": [
    "# --- Volitelný export obrázků ---\n",
    "if EXPORT_PNG:\n",
    "    # Bludiště (PNG)\n",
    "    fig = plt.figure(figsize=(5, 5))\n",
    "    plt.close(fig)\n",
    "\n",
    "    # Graf (PNG)\n",
    "    fig = plt.figure(figsize=(5, 5))\n",
    "    plt.close(fig)\n",
    "    print(\"Uloženo: maze_5x5.png, maze_graph_5x5.png\")\n"
   ]
  }
 ],
 "metadata": {
  "colab": {
   "provenance": []
  },
  "kernelspec": {
   "display_name": "Python 3 (ipykernel)",
   "language": "python",
   "name": "python3"
  },
  "language_info": {
   "codemirror_mode": {
    "name": "ipython",
    "version": 3
   },
   "file_extension": ".py",
   "mimetype": "text/x-python",
   "name": "python",
   "nbconvert_exporter": "python",
   "pygments_lexer": "ipython3",
   "version": "3.12.4"
  }
 },
 "nbformat": 4,
 "nbformat_minor": 5
}
