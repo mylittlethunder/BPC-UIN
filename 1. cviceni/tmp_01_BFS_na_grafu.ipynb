{
  "metadata": {
    "kernelspec": {
      "name": "python",
      "display_name": "Python (Pyodide)",
      "language": "python"
    },
    "language_info": {
      "codemirror_mode": {
        "name": "python",
        "version": 3
      },
      "file_extension": ".py",
      "mimetype": "text/x-python",
      "name": "python",
      "nbconvert_exporter": "python",
      "pygments_lexer": "ipython3",
      "version": "3.8"
    },
    "colab": {
      "provenance": []
    }
  },
  "nbformat_minor": 5,
  "nbformat": 4,
  "cells": [
    {
      "id": "d145513b-eaf9-474e-b7bf-7b3676803336",
      "cell_type": "markdown",
      "source": "# Lab01: BFS na malém grafu — hledání *cesty z/do konkrétního uzlu*\n\nCílem je **edukačně** ukázat BFS (Breadth-First Search, prohledávání do šířky) na malém grafu zadaném pomocí seznamu sousedů.\n\nStruktura notebooku:\n1. **Definice grafu seznamem sousedů** (adjacency list).\n2. **BFS s `collections.deque`**\n3. **Rekonstrukce cesty** od kořene k nalezenému uzlu a **vypsání cesty cestou**.",
      "metadata": {
        "id": "d145513b-eaf9-474e-b7bf-7b3676803336"
      }
    },
    {
      "id": "4c2ea32d-f3dd-4ac7-89a5-6e29622b2d03",
      "cell_type": "code",
      "source": "# --- Použití příkladu: graf si nakreslete ---\n# Reprezentace grafu pomocí seznamu sousedů\ngraph = {\n    \"A\": [\"B\", \"C\"],\n    \"B\": [\"A\", \"C\", \"D\", \"E\"],\n    \"C\": [\"A\", \"B\", \"D\", \"E\"],\n    \"D\": [\"B\", \"C\", \"E\", \"F\"],\n    \"E\": [\"B\", \"C\", \"D\", \"F\"],\n    \"F\": [\"D\", \"E\"]\n}\n# definice počátečního START a konečného END uzlu\nstart = 'A'\nend = 'F'",
      "metadata": {
        "id": "4c2ea32d-f3dd-4ac7-89a5-6e29622b2d03",
        "trusted": true
      },
      "outputs": [],
      "execution_count": 3
    },
    {
      "id": "4fbab820-881e-417e-a570-93502134ee12",
      "cell_type": "code",
      "source": "# Vyzkoušet jak se pracuje se slovníkem graph a jeho položkami\n# for k in graph.values():\n#     print(k)\n# for k in graph.items():\n#     print(k)\nfor k,v in graph.items():\n    print(k, '->', v)\nprint(graph['E'])",
      "metadata": {
        "trusted": true
      },
      "outputs": [
        {
          "name": "stdout",
          "output_type": "stream",
          "text": "A -> ['B', 'C']\nB -> ['A', 'C', 'D', 'E']\nC -> ['A', 'B', 'D', 'E']\nD -> ['B', 'C', 'E', 'F']\nE -> ['B', 'C', 'D', 'F']\nF -> ['D', 'E']\n['B', 'C', 'D', 'F']\n"
        }
      ],
      "execution_count": 11
    },
    {
      "id": "d328f534-768c-4134-8a5a-4cd84bb19846",
      "cell_type": "raw",
      "source": "",
      "metadata": {}
    },
    {
      "id": "c0acf85d-d8ee-471c-a12b-ce3056feef68",
      "cell_type": "markdown",
      "source": "**`def bfs(graph, start_node, target_node)`**:\n    \nProvede prohledávání do šířky (BFS) na daném grafu od počátečního uzlu s cílem najít nejkratší cestu k cílovému uzlu.\n\n*Parametry*:\n    `graph (dict)`: Reprezentace grafu pomocí slovníku.\n    `start_node`:   Počáteční uzel prohledávání.\n    `target_node`:  Cílový uzel, který hledáme.\n\n*Vrací*:\n    `list`: Seznam uzlů, které tvoří nejkratší cestu od start_node k target_node.\n            Pokud cílový uzel není dosažitelný, vrátí None.\n\n**`queue = deque([start_node])`**: Inicializujeme frontu s prvním uzlem. Použití `deque` je zde zásadní. Díky metodě `popleft()` je odebrání prvku ze začátku fronty extrémně rychlé, což by s klasickým listem bylo neefektivní.\n\n**`visited = {start_node}`**: Používáme množinu (set) pro sledování navštívených uzlů. Je to nejrychlejší datová struktura pro kontrolu existence prvku (operace in má průměrnou časovou složitost O(1)).\n\n**`parents = {start_node: None}`**: Tento slovník je jádrem pro nalezení cesty. Pro každý uzel, který navštívíme, si uložíme jeho \"rodiče\" – tedy uzel, ze kterého jsme k němu přišli. To nám umožní se na konci vrátit zpět od cíle až na začátek a zrekonstruovat celou cestu.\n\n**`while queue:`** Hlavní cyklus. Běží tak dlouho, dokud fronta není prázdná, což znamená, že jsme buď našli cíl, nebo jsme prohledali celý dosažitelný graf.\n\n**`path = path[::-1]`**: Jakmile je cíl nalezen, cesta je ve slovníku `parents` uložena pozpátku (od cíle k začátku). Tato operace vytvoří obrácenou kopii seznamu, čímž získáme cestu ve správném pořadí.",
      "metadata": {
        "id": "c0acf85d-d8ee-471c-a12b-ce3056feef68"
      }
    },
    {
      "id": "45036116-4145-43a0-bf96-275104b2688e",
      "cell_type": "code",
      "source": "from collections import deque\n\ndef bfs(graph, start_node, end_node):\n    # Najde nejkratší cestu z 'start_node' do 'end_node' v neváženém grafu\n    # Používáme deque pro efektivní přidávání a odebírání prvků\n\n    # Krok 1: Inicializace\n    # Fronta pro uzly, které je třeba prozkoumat.\n    queue = deque([start_node])\n\n    # Množina pro efektivní sledování navštívených uzlů (často ozn. CLOSED list)\n    visited = {start_node}\n\n    # Slovník pro rekonstrukci cesty, kde klíčem je uzel a hodnotou jeho předchůdce\n    parents = {start_node: None}\n\n    # Krok 2: Hlavní cyklus\n    # Smyčka běží, dokud není fronta prázdná nebo není nalezen cílový uzel\n    while queue:\n        # Odebrání uzlu ze začátku fronty\n        current_node = queue.popleft()\n        # Krok 3: Kontrola cílového uzlu\n        # Cíl nalezen! Pokud je aktuální uzel cílový, rekonstruuj a vrať cestu.\n        if ...:\n            # Rekonstrukce cesty od konce k začátku\n            # Vrací cestu v opačném pořadí (od začátku do konce)\n            return []\n\n        # Krok 4: Prohledávání sousedů\n        # Procházení všech sousedů aktuálního uzlu.\n        for neighbor in ...:\n            ...\n\n    # Pokud smyčka skončí a cílový uzel nebyl nalezen\n    return None",
      "metadata": {
        "id": "45036116-4145-43a0-bf96-275104b2688e"
      },
      "outputs": [],
      "execution_count": null
    },
    {
      "id": "b84f4159-469f-4317-b05b-b7233a04bcea",
      "cell_type": "code",
      "source": "# (main) Spuštění BFS a nalezení cesty\npath = bfs(graph, start, end)\n\nif path:\n    print(f\"Nejkratší cesta z {start} do {end}:\")\n    print(\" -> \".join(path))\nelse:\n    print(f\"Cesta z {start} do {end} nebyla nalezena.\")",
      "metadata": {
        "id": "b84f4159-469f-4317-b05b-b7233a04bcea",
        "outputId": "da0cb1c0-34a9-45d8-9080-d3d57f47d170"
      },
      "outputs": [],
      "execution_count": null
    },
    {
      "id": "49f5451a-ad27-40c0-bb02-ed15bf1625ff",
      "cell_type": "code",
      "source": "",
      "metadata": {
        "id": "49f5451a-ad27-40c0-bb02-ed15bf1625ff"
      },
      "outputs": [],
      "execution_count": null
    }
  ]
}