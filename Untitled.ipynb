{
 "cells": [
  {
   "cell_type": "code",
   "execution_count": 1,
   "id": "16f5e4c1-36c5-454b-b245-30adb85d9883",
   "metadata": {},
   "outputs": [],
   "source": [
    "import random\n",
    "import turtle\n",
    "\n",
    "def generate_maze_recurs_backtrack"
   ]
  },
  {
   "cell_type": "code",
   "execution_count": null,
   "id": "b22dc9a7-1d17-47ac-93bd-02695d4c6974",
   "metadata": {},
   "outputs": [],
   "source": []
  },
  {
   "cell_type": "code",
   "execution_count": null,
   "id": "508cfb6a-fcae-4245-a8c5-9737621b3b82",
   "metadata": {},
   "outputs": [],
   "source": []
  }
 ],
 "metadata": {
  "kernelspec": {
   "display_name": "Python 3 (ipykernel)",
   "language": "python",
   "name": "python3"
  },
  "language_info": {
   "codemirror_mode": {
    "name": "ipython",
    "version": 3
   },
   "file_extension": ".py",
   "mimetype": "text/x-python",
   "name": "python",
   "nbconvert_exporter": "python",
   "pygments_lexer": "ipython3",
   "version": "3.13.2"
  }
 },
 "nbformat": 4,
 "nbformat_minor": 5
}
